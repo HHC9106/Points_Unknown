{
 "cells": [
  {
   "cell_type": "code",
   "execution_count": 6,
   "metadata": {},
   "outputs": [
    {
     "name": "stdout",
     "output_type": "stream",
     "text": [
      "Requirement already satisfied: selenium in /Users/seanchew/opt/anaconda3/lib/python3.9/site-packages (4.8.3)\n",
      "Requirement already satisfied: trio~=0.17 in /Users/seanchew/opt/anaconda3/lib/python3.9/site-packages (from selenium) (0.22.0)\n",
      "Requirement already satisfied: urllib3[socks]~=1.26 in /Users/seanchew/opt/anaconda3/lib/python3.9/site-packages (from selenium) (1.26.7)\n",
      "Requirement already satisfied: trio-websocket~=0.9 in /Users/seanchew/opt/anaconda3/lib/python3.9/site-packages (from selenium) (0.10.2)\n",
      "Requirement already satisfied: certifi>=2021.10.8 in /Users/seanchew/opt/anaconda3/lib/python3.9/site-packages (from selenium) (2021.10.8)\n",
      "Requirement already satisfied: attrs>=19.2.0 in /Users/seanchew/opt/anaconda3/lib/python3.9/site-packages (from trio~=0.17->selenium) (21.2.0)\n",
      "Requirement already satisfied: idna in /Users/seanchew/opt/anaconda3/lib/python3.9/site-packages (from trio~=0.17->selenium) (3.2)\n",
      "Requirement already satisfied: exceptiongroup>=1.0.0rc9 in /Users/seanchew/opt/anaconda3/lib/python3.9/site-packages (from trio~=0.17->selenium) (1.1.1)\n",
      "Requirement already satisfied: sniffio in /Users/seanchew/opt/anaconda3/lib/python3.9/site-packages (from trio~=0.17->selenium) (1.2.0)\n",
      "Requirement already satisfied: sortedcontainers in /Users/seanchew/opt/anaconda3/lib/python3.9/site-packages (from trio~=0.17->selenium) (2.4.0)\n",
      "Requirement already satisfied: async-generator>=1.9 in /Users/seanchew/opt/anaconda3/lib/python3.9/site-packages (from trio~=0.17->selenium) (1.10)\n",
      "Requirement already satisfied: outcome in /Users/seanchew/opt/anaconda3/lib/python3.9/site-packages (from trio~=0.17->selenium) (1.2.0)\n",
      "Requirement already satisfied: wsproto>=0.14 in /Users/seanchew/opt/anaconda3/lib/python3.9/site-packages (from trio-websocket~=0.9->selenium) (1.2.0)\n",
      "Requirement already satisfied: PySocks!=1.5.7,<2.0,>=1.5.6 in /Users/seanchew/opt/anaconda3/lib/python3.9/site-packages (from urllib3[socks]~=1.26->selenium) (1.7.1)\n",
      "Requirement already satisfied: h11<1,>=0.9.0 in /Users/seanchew/opt/anaconda3/lib/python3.9/site-packages (from wsproto>=0.14->trio-websocket~=0.9->selenium) (0.14.0)\n"
     ]
    }
   ],
   "source": [
    "!pip install selenium\n",
    "from selenium import webdriver\n",
    "#!pip install BeautifulSoup\n",
    "from bs4 import BeautifulSoup\n",
    "import os\n",
    "import io\n",
    "import time\n",
    "import re\n",
    "import random\n",
    "import pandas as pd\n",
    "from selenium.webdriver.common.by import By\n",
    "from selenium.webdriver.support.ui import WebDriverWait\n",
    "from selenium.webdriver.support import expected_conditions as EC\n",
    "from selenium.webdriver.support.ui import Select\n",
    "\n"
   ]
  },
  {
   "cell_type": "code",
   "execution_count": 8,
   "metadata": {},
   "outputs": [
    {
     "name": "stderr",
     "output_type": "stream",
     "text": [
      "/var/folders/53/zn46v9s96111cklvxsj1blcw0000gn/T/ipykernel_70648/3221474769.py:20: DeprecationWarning: executable_path has been deprecated, please pass in a Service object\n",
      "  driver = webdriver.Chrome(executable_path=\"./chromedriver_mac64/chromedriver\")\n"
     ]
    },
    {
     "ename": "UnexpectedTagNameException",
     "evalue": "Message: Select only works on <select> elements, not on input\n",
     "output_type": "error",
     "traceback": [
      "\u001b[0;31m---------------------------------------------------------------------------\u001b[0m",
      "\u001b[0;31mUnexpectedTagNameException\u001b[0m                Traceback (most recent call last)",
      "\u001b[0;32m/var/folders/53/zn46v9s96111cklvxsj1blcw0000gn/T/ipykernel_70648/3221474769.py\u001b[0m in \u001b[0;36m<module>\u001b[0;34m\u001b[0m\n\u001b[1;32m     40\u001b[0m \u001b[0;34m\u001b[0m\u001b[0m\n\u001b[1;32m     41\u001b[0m \u001b[0;31m# Select the yrd\u001b[0m\u001b[0;34m\u001b[0m\u001b[0;34m\u001b[0m\u001b[0m\n\u001b[0;32m---> 42\u001b[0;31m \u001b[0myrd_select\u001b[0m \u001b[0;34m=\u001b[0m \u001b[0mSelect\u001b[0m\u001b[0;34m(\u001b[0m\u001b[0mdriver\u001b[0m\u001b[0;34m.\u001b[0m\u001b[0mfind_element\u001b[0m\u001b[0;34m(\u001b[0m\u001b[0mBy\u001b[0m\u001b[0;34m.\u001b[0m\u001b[0mNAME\u001b[0m\u001b[0;34m,\u001b[0m \u001b[0;34m'yrd'\u001b[0m\u001b[0;34m)\u001b[0m\u001b[0;34m)\u001b[0m\u001b[0;34m\u001b[0m\u001b[0;34m\u001b[0m\u001b[0m\n\u001b[0m\u001b[1;32m     43\u001b[0m \u001b[0myrd_select\u001b[0m\u001b[0;34m.\u001b[0m\u001b[0mselect_by_value\u001b[0m\u001b[0;34m(\u001b[0m\u001b[0;34m'5'\u001b[0m\u001b[0;34m)\u001b[0m\u001b[0;34m\u001b[0m\u001b[0;34m\u001b[0m\u001b[0m\n\u001b[1;32m     44\u001b[0m \u001b[0;34m\u001b[0m\u001b[0m\n",
      "\u001b[0;32m~/opt/anaconda3/lib/python3.9/site-packages/selenium/webdriver/support/select.py\u001b[0m in \u001b[0;36m__init__\u001b[0;34m(self, webelement)\u001b[0m\n\u001b[1;32m     34\u001b[0m         \"\"\"\n\u001b[1;32m     35\u001b[0m         \u001b[0;32mif\u001b[0m \u001b[0mwebelement\u001b[0m\u001b[0;34m.\u001b[0m\u001b[0mtag_name\u001b[0m\u001b[0;34m.\u001b[0m\u001b[0mlower\u001b[0m\u001b[0;34m(\u001b[0m\u001b[0;34m)\u001b[0m \u001b[0;34m!=\u001b[0m \u001b[0;34m\"select\"\u001b[0m\u001b[0;34m:\u001b[0m\u001b[0;34m\u001b[0m\u001b[0;34m\u001b[0m\u001b[0m\n\u001b[0;32m---> 36\u001b[0;31m             \u001b[0;32mraise\u001b[0m \u001b[0mUnexpectedTagNameException\u001b[0m\u001b[0;34m(\u001b[0m\u001b[0;34mf\"Select only works on <select> elements, not on {webelement.tag_name}\"\u001b[0m\u001b[0;34m)\u001b[0m\u001b[0;34m\u001b[0m\u001b[0;34m\u001b[0m\u001b[0m\n\u001b[0m\u001b[1;32m     37\u001b[0m         \u001b[0mself\u001b[0m\u001b[0;34m.\u001b[0m\u001b[0m_el\u001b[0m \u001b[0;34m=\u001b[0m \u001b[0mwebelement\u001b[0m\u001b[0;34m\u001b[0m\u001b[0;34m\u001b[0m\u001b[0m\n\u001b[1;32m     38\u001b[0m         \u001b[0mmulti\u001b[0m \u001b[0;34m=\u001b[0m \u001b[0mself\u001b[0m\u001b[0;34m.\u001b[0m\u001b[0m_el\u001b[0m\u001b[0;34m.\u001b[0m\u001b[0mget_dom_attribute\u001b[0m\u001b[0;34m(\u001b[0m\u001b[0;34m\"multiple\"\u001b[0m\u001b[0;34m)\u001b[0m\u001b[0;34m\u001b[0m\u001b[0;34m\u001b[0m\u001b[0m\n",
      "\u001b[0;31mUnexpectedTagNameException\u001b[0m: Message: Select only works on <select> elements, not on input\n"
     ]
    }
   ],
   "source": [
    "# Save a csv for Haoche to visualize \n",
    "# Changes - every 5000 we save it. _1 _2 (port entry name, year)\n",
    "# Year search\n",
    "# Try - catch (save where it failed, keep going)\n",
    "\n",
    "#### INPUTS #####\n",
    "# Change depending on which one you want to scrape\n",
    "immigrant_page = \"https://stevemorse.org/ellis/passengers.php?mode=ny\"\n",
    "\n",
    "# My Credentials\n",
    "user = \"seanlikesblue@gmail.com\"\n",
    "password = \"pointsunknown123\"\n",
    "\n",
    "# Year to input:\n",
    "year = '1887'\n",
    "port_entry = \"NY\"\n",
    "\n",
    "#### Scraping Code #####\n",
    "# Open log in page\n",
    "driver = webdriver.Chrome(executable_path=\"./chromedriver_mac64/chromedriver\")\n",
    "page = driver.get('https://www.ancestry.com/account/signin?returnUrl=')\n",
    "\n",
    "# Log in\n",
    "wait = WebDriverWait(driver, 2)\n",
    "element = wait.until(EC.presence_of_element_located((By.ID, 'username')))\n",
    "element.click()\n",
    "element.send_keys(user)\n",
    "element = wait.until(EC.presence_of_element_located((By.ID, 'password')))\n",
    "element.click()\n",
    "element.send_keys(password)\n",
    "\n",
    "element = wait.until(EC.presence_of_element_located((By.ID, 'signInBtn')))\n",
    "element.click()\n",
    "time.sleep(5)\n",
    "driver.get(immigrant_page) # INPUT \n",
    "\n",
    "# Select the year\n",
    "year_select = Select(driver.find_element(By.NAME, 'yr'))\n",
    "year_select.select_by_value(year)\n",
    "\n",
    "# Select the yrd\n",
    "yrd_select = Select(driver.find_element(By.NAME, 'yrd'))\n",
    "yrd_select.select_by_value('5')\n",
    "\n",
    "\n",
    "# Find the search button\n",
    "element = wait.until(EC.presence_of_element_located((By.CSS_SELECTOR, 'input[type=\"button\"][value=\"search\"]')))\n",
    "time.sleep(3)\n",
    "element.click()\n",
    "\n",
    "# Switch to the opened tab\n",
    "p = driver.current_window_handle\n",
    "parent = driver.window_handles[0]\n",
    "chld = driver.window_handles[1]\n",
    "driver.switch_to.window(chld)\n",
    "\n",
    "# Begin Iterating and Saving Dataframes:\n",
    "counter = 0\n",
    "data = []\n",
    "html = driver.page_source\n",
    "soup = BeautifulSoup(html, 'html.parser')\n",
    "max_element = soup.find('span', {'class': 'pagingMax'})\n",
    "max_value = int(max_element.text.replace(',', ''))\n",
    "max_value\n",
    "\n",
    "for i in range(1, max_value-(max_value-11)):\n",
    "    counter = counter + 1\n",
    "    wait = WebDriverWait(driver, 10)\n",
    "    wait.until(EC.presence_of_element_located((By.ID, 'collection-results-table')))\n",
    "    html = driver.page_source\n",
    "\n",
    "    # Parse HTML with Beautiful Soup\n",
    "    soup = BeautifulSoup(html, 'html.parser')\n",
    "\n",
    "    # Find the table element by ID\n",
    "    table = soup.find('table', {'id': 'collection-results-table'})\n",
    "\n",
    "    # Extract the table rows\n",
    "    rows = table.find_all('tr')\n",
    "\n",
    "\n",
    "    for row in rows[1:]:\n",
    "        cells = row.find_all('td')\n",
    "        data.append({\n",
    "            'Name': cells[1].text,\n",
    "            'Birth Year': cells[2].text.strip(),\n",
    "            'Arrival Date': cells[3].text.strip(),\n",
    "            'Departure Port': cells[4].text.strip(),\n",
    "            'Ethnicity/Nationality': cells[5].text.strip(),\n",
    "            'Ship Name': cells[6].text.strip()\n",
    "        })\n",
    "\n",
    "    df = pd.DataFrame(data)\n",
    "\n",
    "    print(counter)\n",
    "\n",
    "    next_button = driver.find_element(By.CSS_SELECTOR, 'a.pagingNext')\n",
    "    next_button.click()\n",
    "    \n",
    "    # Add random wait time between 1-3 seconds\n",
    "    time.sleep(random.randint(1, 3))\n",
    "    if counter % 10 == 0:\n",
    "        df.to_csv(f'csvs/data_{port_entry}_{year}_{counter}.csv', index=False)\n",
    "\n",
    "df.to_csv(f'csvs/data_{port_entry}_{year}_final.csv', index=False)"
   ]
  },
  {
   "cell_type": "code",
   "execution_count": 5,
   "metadata": {},
   "outputs": [
    {
     "ename": "NameError",
     "evalue": "name 'df' is not defined",
     "output_type": "error",
     "traceback": [
      "\u001b[0;31m---------------------------------------------------------------------------\u001b[0m",
      "\u001b[0;31mNameError\u001b[0m                                 Traceback (most recent call last)",
      "\u001b[0;32m/var/folders/53/zn46v9s96111cklvxsj1blcw0000gn/T/ipykernel_45877/1396537375.py\u001b[0m in \u001b[0;36m<module>\u001b[0;34m\u001b[0m\n\u001b[0;32m----> 1\u001b[0;31m \u001b[0mdf\u001b[0m\u001b[0;34m\u001b[0m\u001b[0;34m\u001b[0m\u001b[0m\n\u001b[0m",
      "\u001b[0;31mNameError\u001b[0m: name 'df' is not defined"
     ]
    }
   ],
   "source": [
    "df"
   ]
  },
  {
   "cell_type": "code",
   "execution_count": null,
   "metadata": {},
   "outputs": [],
   "source": [
    "df"
   ]
  }
 ],
 "metadata": {
  "kernelspec": {
   "display_name": "Python 3 (ipykernel)",
   "language": "python",
   "name": "python3"
  },
  "language_info": {
   "codemirror_mode": {
    "name": "ipython",
    "version": 3
   },
   "file_extension": ".py",
   "mimetype": "text/x-python",
   "name": "python",
   "nbconvert_exporter": "python",
   "pygments_lexer": "ipython3",
   "version": "3.9.7"
  }
 },
 "nbformat": 4,
 "nbformat_minor": 2
}
